{
 "cells": [
  {
   "cell_type": "markdown",
   "metadata": {},
   "source": [
    "`Small Task`\n",
    "# Task: Take two numbers as input and print their sum."
   ]
  },
  {
   "cell_type": "code",
   "execution_count": 8,
   "metadata": {},
   "outputs": [
    {
     "name": "stdout",
     "output_type": "stream",
     "text": [
      "Sum of two numbers is:  11\n"
     ]
    }
   ],
   "source": [
    "num1 = input('Enter First Number: ');\n",
    "\n",
    "num2 = input('Enter Second Number: ');\n",
    "\n",
    "sum = int(num1) + int(num2);\n",
    "\n",
    "print('Sum of two numbers is: ', sum);"
   ]
  },
  {
   "cell_type": "code",
   "execution_count": null,
   "metadata": {},
   "outputs": [],
   "source": [
    "num1 = float(input('Enter First Number: '));\n",
    "\n",
    "num2 = float(input('Enter Second Number: '));\n",
    "\n",
    "sum = num1 + num2;\n",
    "\n",
    "print('Sum of two numbers is: ', sum);"
   ]
  }
 ],
 "metadata": {
  "kernelspec": {
   "display_name": "Python 3",
   "language": "python",
   "name": "python3"
  },
  "language_info": {
   "codemirror_mode": {
    "name": "ipython",
    "version": 3
   },
   "file_extension": ".py",
   "mimetype": "text/x-python",
   "name": "python",
   "nbconvert_exporter": "python",
   "pygments_lexer": "ipython3",
   "version": "3.13.0"
  }
 },
 "nbformat": 4,
 "nbformat_minor": 2
}
